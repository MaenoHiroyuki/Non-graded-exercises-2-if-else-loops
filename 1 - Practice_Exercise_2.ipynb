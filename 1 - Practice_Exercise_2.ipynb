{
 "cells": [
  {
   "cell_type": "markdown",
   "metadata": {},
   "source": [
    "1. Ask user to enter a string and check that it is made up only alphabets:"
   ]
  },
  {
   "cell_type": "code",
   "execution_count": null,
   "metadata": {},
   "outputs": [],
   "source": [
    "user_input = input(\"Please enter a string: \")\n",
    "\n",
    "if user_input.isalpha():\n",
    "    print(\"The string contains only alphabets.\")\n",
    "else:\n",
    "    print(\"The string contains non-alphabet characters.\")\n"
   ]
  },
  {
   "cell_type": "markdown",
   "metadata": {},
   "source": [
    "2. Now, make sure that the string is made up of both alphabets and numbers:\n",
    "\n",
    "TRY using isalnum() function and then entering only alhpabets in the string and see what happens."
   ]
  },
  {
   "cell_type": "code",
   "execution_count": null,
   "metadata": {},
   "outputs": [],
   "source": [
    "user_input = input(\"Please enter a string: \")\n",
    "\n",
    "has_alpha = any(char.isalpha() for char in user_input) \n",
    "has_digit = any(char.isdigit() for char in user_input)  \n",
    "\n",
    "if has_alpha and has_digit:\n",
    "    print(\"Valid.The string contains both alphabets and numbers.\")\n",
    "else:\n",
    "    print(\"Invalid.The string must contain both alphabets and numbers.\")\n"
   ]
  },
  {
   "cell_type": "markdown",
   "metadata": {},
   "source": [
    "3. Now, make sure that the string is made up of both alphabets and at least one number:\n"
   ]
  },
  {
   "cell_type": "code",
   "execution_count": null,
   "metadata": {},
   "outputs": [],
   "source": [
    "user_input = input(\"Please enter a string: \")\n",
    "\n",
    "has_alpha = any(char.isalpha() for char in user_input)  \n",
    "has_digit = any(char.isdigit() for char in user_input)  \n",
    "\n",
    "if has_alpha and has_digit:\n",
    "    print(\"Valid.The string contains both alphabets and at least one number!\")\n",
    "else:\n",
    "    print(\"Invalid.The string must contain both alphabets and at least one number.\")\n"
   ]
  },
  {
   "cell_type": "markdown",
   "metadata": {},
   "source": [
    "4. Now, make sure that the string is made up of both alphabets, at least one number, and at least one special character:"
   ]
  },
  {
   "cell_type": "code",
   "execution_count": null,
   "metadata": {},
   "outputs": [],
   "source": [
    "user_input = input(\"Please enter a string: \")\n",
    "\n",
    "has_alpha = any(char.isalpha() for char in user_input)  \n",
    "has_digit = any(char.isdigit() for char in user_input)  \n",
    "has_special = any(not char.isalnum() for char in user_input) \n",
    "\n",
    "if has_alpha and has_digit and has_special:\n",
    "    print(\"Valid.The string contains alphabets, at least one number, and at least one special character.\")\n",
    "else:\n",
    "    print(\"Invalid.The string must contain alphabets, at least one number, and at least one special character.\")\n"
   ]
  },
  {
   "cell_type": "markdown",
   "metadata": {},
   "source": [
    "5. Now, modify the above code so that if the user enters an invalid string, the program should ask the user to enter another string again, and keep asking until a valid string has been entered."
   ]
  },
  {
   "cell_type": "code",
   "execution_count": null,
   "metadata": {},
   "outputs": [],
   "source": [
    "while True:\n",
    "    user_input = input(\"Please enter a string: \")\n",
    "\n",
    "    has_alpha = any(char.isalpha() for char in user_input)  \n",
    "    has_digit = any(char.isdigit() for char in user_input)  \n",
    "    has_special = any(not char.isalnum() for char in user_input)  \n",
    "\n",
    "    if has_alpha and has_digit and has_special:\n",
    "        print(\"The string contains alphabets, at least one number, and at least one special character!\")\n",
    "        break  \n",
    "    else:\n",
    "        print(\"Invalid string. Please try again.\")\n"
   ]
  }
 ],
 "metadata": {
  "kernelspec": {
   "display_name": "Python 3",
   "language": "python",
   "name": "python3"
  },
  "language_info": {
   "codemirror_mode": {
    "name": "ipython",
    "version": 3
   },
   "file_extension": ".py",
   "mimetype": "text/x-python",
   "name": "python",
   "nbconvert_exporter": "python",
   "pygments_lexer": "ipython3",
   "version": "3.11.5"
  }
 },
 "nbformat": 4,
 "nbformat_minor": 2
}
